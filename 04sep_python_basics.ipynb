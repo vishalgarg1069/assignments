{
 "cells": [
  {
   "cell_type": "markdown",
   "id": "c8d11cc6-6f75-43c6-a125-e0204b33c55d",
   "metadata": {},
   "source": [
    "Q1 - 1. Declare two variables, `x` and `y`, and assign them integer values. Swap the\n",
    "values of these variables without using any temporary variable.\n"
   ]
  },
  {
   "cell_type": "code",
   "execution_count": 4,
   "id": "a35331b1-936b-424c-8255-e561e2ba792b",
   "metadata": {},
   "outputs": [
    {
     "name": "stdout",
     "output_type": "stream",
     "text": [
      "after swapping x= 5 y= 10\n"
     ]
    }
   ],
   "source": [
    "x=10\n",
    "y=5\n",
    "x=x+y\n",
    "y= x-y\n",
    "x=x-y\n",
    "print(\"after swapping x=\",x,\"y=\",y)\n"
   ]
  },
  {
   "cell_type": "markdown",
   "id": "7cbedf07-f14c-47b7-9ddd-e0feb0f5b65b",
   "metadata": {},
   "source": [
    "2. Create a program that calculates the area of a rectangle. Take the length and\n",
    "width as inputs from the user and store them in variables. Calculate and\n",
    "display the area."
   ]
  },
  {
   "cell_type": "code",
   "execution_count": 21,
   "id": "aa210274-ee67-47c8-b27b-637e007e7a5d",
   "metadata": {},
   "outputs": [
    {
     "name": "stdin",
     "output_type": "stream",
     "text": [
      "length =  14\n",
      "Width =  18\n"
     ]
    },
    {
     "name": "stdout",
     "output_type": "stream",
     "text": [
      "area of rectangle= 252.0\n"
     ]
    }
   ],
   "source": [
    "length=float(input(\"length = \"))\n",
    "width=float(input(\"Width = \"))\n",
    "c=length*width\n",
    "print(\"area of rectangle=\",c)"
   ]
  },
  {
   "cell_type": "markdown",
   "id": "ac34f19f-af3a-4031-88bd-66148a9ff1f7",
   "metadata": {},
   "source": [
    "Write a Python program that converts temperatures from Celsius to\n",
    "Fahrenheit. Take the temperature in Celsius as input, store it in a variable,\n",
    "convert it to Fahrenheit, and display the result."
   ]
  },
  {
   "cell_type": "code",
   "execution_count": 20,
   "id": "45abf357-a381-495c-835f-64f788c4cee5",
   "metadata": {},
   "outputs": [
    {
     "name": "stdin",
     "output_type": "stream",
     "text": [
      "Enter degree Celsius= 34\n"
     ]
    },
    {
     "name": "stdout",
     "output_type": "stream",
     "text": [
      "Fahrenhiet degree is= 93.2\n"
     ]
    }
   ],
   "source": [
    "celsius=float(input(\"Enter degree Celsius=\"))\n",
    "fahrenheit=(celsius*1.8)+32\n",
    "print(\"Fahrenhiet degree is=\",fahrenheit)\n"
   ]
  },
  {
   "cell_type": "markdown",
   "id": "06d9540d-d916-4f09-a9f5-67a1f6426ab1",
   "metadata": {},
   "source": [
    "\"\"\"STR based questions"
   ]
  },
  {
   "cell_type": "code",
   "execution_count": 17,
   "id": "9dfcd2e3-61dc-48c5-85fd-067679fa076f",
   "metadata": {},
   "outputs": [],
   "source": [
    "#1. Write a Python program that takes a string as input and prints the length of\n",
    "#the string."
   ]
  },
  {
   "cell_type": "code",
   "execution_count": 19,
   "id": "91236adc-4860-45d5-8bf7-d37e071ca711",
   "metadata": {},
   "outputs": [
    {
     "name": "stdin",
     "output_type": "stream",
     "text": [
      "Enter value =  amardeep\n"
     ]
    },
    {
     "name": "stdout",
     "output_type": "stream",
     "text": [
      "8\n"
     ]
    }
   ],
   "source": [
    "s=input(\"Enter value = \")\n",
    "print(len(s))"
   ]
  },
  {
   "cell_type": "code",
   "execution_count": 25,
   "id": "86240983-1b2b-4241-b5a7-60a6758df073",
   "metadata": {},
   "outputs": [],
   "source": [
    "#2.Create a program that takes a sentence from the user and counts the number\n",
    "#of vowels (a, e, i, o, u) in the string."
   ]
  },
  {
   "cell_type": "code",
   "execution_count": 36,
   "id": "e6a499a9-e3f2-472d-937d-ca278409a96c",
   "metadata": {},
   "outputs": [
    {
     "name": "stdin",
     "output_type": "stream",
     "text": [
      "Enter string: vishal\n"
     ]
    },
    {
     "name": "stdout",
     "output_type": "stream",
     "text": [
      "Number of vowels are:\n",
      "2\n"
     ]
    }
   ],
   "source": [
    "str=input(\"Enter string:\")\n",
    "vowels=0\n",
    "for i in str:\n",
    "      if(i=='a' or i=='e' or i=='i' or i=='o' or i=='u' or i=='A' or i=='E' or i=='I' or i=='O' or i=='U'):\n",
    "            vowels=vowels+1\n",
    "print(\"Number of vowels are:\")\n",
    "print(vowels)"
   ]
  },
  {
   "cell_type": "code",
   "execution_count": 18,
   "id": "9730d129-aca8-465a-b6e2-e8a2493dd341",
   "metadata": {},
   "outputs": [
    {
     "name": "stdin",
     "output_type": "stream",
     "text": [
      "Enter Sentence=  amardeep is aboy\n"
     ]
    },
    {
     "name": "stdout",
     "output_type": "stream",
     "text": [
      "no. of vowels are=\n",
      "7\n"
     ]
    }
   ],
   "source": [
    "str=input(\"Enter Sentence= \")\n",
    "v=0\n",
    "for i in str:\n",
    "    if(i==\"a\"or i==\"e\"or i==\"i\"or i==\"o\"or i==\"u\"):\n",
    "        v=v+1\n",
    "    \n",
    "print(\"no. of vowels are=\")\n",
    "print(v)\n"
   ]
  },
  {
   "cell_type": "code",
   "execution_count": 29,
   "id": "258ba43e-80cf-4aad-9e3a-329afb5b8ab1",
   "metadata": {},
   "outputs": [],
   "source": [
    "#3. Given a string, reverse the order of characters using string slicing and print\n",
    "#the reversed string.\n"
   ]
  },
  {
   "cell_type": "raw",
   "id": "7e729eb0-67f8-40d0-8e08-e1f97c0a2276",
   "metadata": {},
   "source": [
    "a= input(\"Enter value\")\n",
    "a[::-1]\n",
    "\n"
   ]
  },
  {
   "cell_type": "markdown",
   "id": "d49559f0-e2d6-4be0-809a-9bd3b4ecd2ef",
   "metadata": {},
   "source": [
    "4. Write a program that takes a string as input and checks if it is a palindrome\n",
    "(reads the same forwards and backwards)."
   ]
  },
  {
   "cell_type": "code",
   "execution_count": 16,
   "id": "10fd83c7-e2e4-4128-b3da-61a0c1a66eed",
   "metadata": {},
   "outputs": [
    {
     "name": "stdin",
     "output_type": "stream",
     "text": [
      "Enter a string hhhhh\n"
     ]
    },
    {
     "name": "stdout",
     "output_type": "stream",
     "text": [
      "It is a palindrome\n"
     ]
    }
   ],
   "source": [
    "string= input(\"Enter a string\")\n",
    "new_string=string.replace(\" \",\"\").lower()\n",
    "reverse_string = new_string[::-1]\n",
    "if new_string==reverse_string:\n",
    "    print(\"It is a palindrome\")\n",
    "else:\n",
    "    print(\"it is not a palindrome\")\n"
   ]
  },
  {
   "cell_type": "markdown",
   "id": "f6eb4506-6ac9-4a52-b106-3ef4b61a7dd9",
   "metadata": {},
   "source": [
    "5. Create a program that takes a string as input and removes all the spaces from\n",
    "it. Print the modified string without spaces."
   ]
  },
  {
   "cell_type": "code",
   "execution_count": 22,
   "id": "40daf7f3-498c-4386-a216-3fd2acc36862",
   "metadata": {},
   "outputs": [
    {
     "name": "stdin",
     "output_type": "stream",
     "text": [
      "Enter a string vishal is a boy\n"
     ]
    },
    {
     "name": "stdout",
     "output_type": "stream",
     "text": [
      " Answer is=  vishalisaboy\n"
     ]
    }
   ],
   "source": [
    "string_a=input(\"Enter a string\")\n",
    "new_string_a=string_a.replace(\" \", \"\")\n",
    "print(\" Answer is= \",new_string_a)"
   ]
  },
  {
   "cell_type": "code",
   "execution_count": null,
   "id": "fef8554f-3f99-4ce3-a406-eb49adec1161",
   "metadata": {},
   "outputs": [],
   "source": []
  }
 ],
 "metadata": {
  "kernelspec": {
   "display_name": "Python 3 (ipykernel)",
   "language": "python",
   "name": "python3"
  },
  "language_info": {
   "codemirror_mode": {
    "name": "ipython",
    "version": 3
   },
   "file_extension": ".py",
   "mimetype": "text/x-python",
   "name": "python",
   "nbconvert_exporter": "python",
   "pygments_lexer": "ipython3",
   "version": "3.10.8"
  }
 },
 "nbformat": 4,
 "nbformat_minor": 5
}
